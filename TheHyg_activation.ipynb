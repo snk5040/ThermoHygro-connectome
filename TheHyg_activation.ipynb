{
 "cells": [
  {
   "cell_type": "markdown",
   "metadata": {},
   "source": [
    "## This code performs whole-brain simulations where thermo- and hygrosensory neurons are activated and the activity of all other neurons is recorded.\n",
    "\n",
    "### Simulations are based on the leaky integrate and fire model by Shiu et al. (bioRxiv, 2023). \n",
    "\n",
    "### This notebook is adapted from one generously shared by Philip Shiu et al. (https://github.com/philshiu/Drosophila_brain_model)"
   ]
  },
  {
   "cell_type": "code",
   "execution_count": 18,
   "metadata": {},
   "outputs": [],
   "source": [
    "from model import run_exp\n",
    "from model import default_params as params\n",
    "import utils as utl\n",
    "from brian2 import Hz\n",
    "\n",
    "config = {\n",
    "    'path_res'  : './results',                     # directory to store results\n",
    "    'path_comp' : './ShiuFiles/Completeness_783.csv',        # csv of the complete list of Flywire neurons\n",
    "    'path_con'  : './ShiuFiles/Connectivity_783.parquet',    # connectivity data\n",
    "    'n_proc'    : -1,                                               # number of CPU cores (-1: use all)\n",
    "}"
   ]
  },
  {
   "cell_type": "markdown",
   "metadata": {},
   "source": [
    "## Underlying connectivity data\n",
    "The connectivity of the fly brain is stored in the folowing files:\n",
    "- neurons present: `config['path_comp']`\n",
    "- connectivity between neurons: `config['path_con]`\n",
    "\n",
    "## Model parameters\n",
    "The equation and constants for the leaky integrate and fire model are defined \n",
    "in the dictionary `default_params` in the beginning of the file `model.py`:\n",
    "\n",
    "```\n",
    "default_params = {\n",
    "    # trials\n",
    "    't_run'     : 1000 * ms,              # duration of trial\n",
    "    'n_run'     : 30,                     # number of runs\n",
    "\n",
    "    'v_0'       : -52 * mV,               # resting potential\n",
    "    'v_rst'     : -52 * mV,               # reset potential after spike\n",
    "    [...]\n",
    "```\n",
    "We can also change values\n",
    "and pass the modified dictionary to the model (see Experiment 1).\n",
    "\n",
    "## First, define each set of GRNs.\n",
    "## We are using the same neurons as for the connectome analyses."
   ]
  },
  {
   "cell_type": "code",
   "execution_count": 19,
   "metadata": {},
   "outputs": [],
   "source": [
    "# Thermosensory neurons in left hemisphere\n",
    "thermo_L = [\n",
    "    720575940615856345,\n",
    "    720575940613794114,\n",
    "    720575940646372228,\n",
    "    720575940619024774,\n",
    "    720575940616039197,\n",
    "    720575940625293514,\n",
    "    720575940623793741,\n",
    "    720575940627944464,\n",
    "    720575940618512624,\n",
    "    720575940622972820,\n",
    "    720575940638389437,\n",
    "    720575940616999069,\n",
    "    720575940613191591\n",
    "    ]\n",
    "\n",
    "# Thermosensory neurons in right hemisphere\n",
    "thermo_R = [\n",
    "    720575940619930534,\n",
    "    720575940611720362,\n",
    "    720575940617041728,\n",
    "    720575940631875298,\n",
    "    720575940646785924,\n",
    "    720575940621659563,\n",
    "    720575940627135306,\n",
    "    720575940627677258,\n",
    "    720575940636878254,\n",
    "    720575940635969399,\n",
    "    720575940632913461,\n",
    "    720575940633059381,\n",
    "    720575940621831804,\n",
    "    720575940629007230,\n",
    "    720575940650751873,\n",
    "    720575940622082518\n",
    "    ]\n",
    "\n",
    "# Hygrosensory neurons in left hemisphere\n",
    "hygro_L = [\n",
    "    720575940638509952,\n",
    "    720575940616239873,\n",
    "    720575940624673936,\n",
    "    720575940614634786,\n",
    "    720575940617969961,\n",
    "    720575940620634537,\n",
    "    720575940630644281,\n",
    "    720575940635767524,\n",
    "    720575940633280107,\n",
    "    720575940618574983,\n",
    "    720575940624011278,\n",
    "    720575940627150991,\n",
    "    720575940635916942,\n",
    "    720575940622581651,\n",
    "    720575940614921501,\n",
    "    720575940617665950,\n",
    "    720575940614570793,\n",
    "    720575940617986089,\n",
    "    720575940603820716,\n",
    "    720575940617986345,\n",
    "    720575940617987113,\n",
    "    720575940605264305,\n",
    "    720575940614996018,\n",
    "    720575940623065013,\n",
    "    720575940620459702,\n",
    "    720575940638300093,\n",
    "    720575940622457028,\n",
    "    720575940622700749,\n",
    "    720575940609792206,\n",
    "    720575940614711638,\n",
    "    720575940618531544,\n",
    "    720575940637096026,\n",
    "    720575940610460514,\n",
    "    720575940628945516,\n",
    "    720575940651079158,\n",
    "    720575940626580361,\n",
    "    720575940604931249,\n",
    "    720575940622625097,\n",
    "    720575940615553397\n",
    "    ]\n",
    "\n",
    "# Hygrosensory neurons in right hemisphere\n",
    "hygro_R = [\n",
    "    720575940613914774,\n",
    "    720575940620602236,\n",
    "    720575940619075073,\n",
    "    720575940614842262,\n",
    "    720575940625868184,\n",
    "    720575940633274524,\n",
    "    720575940614919709,\n",
    "    720575940623476661,\n",
    "    720575940637494837,\n",
    "    720575940630282297,\n",
    "    720575940626125626,\n",
    "    720575940627271230,\n",
    "    720575940623030861,\n",
    "    720575940620644446,\n",
    "    720575940626256992,\n",
    "    720575940632714465,\n",
    "    720575940611377893,\n",
    "    720575940620847086,\n",
    "    720575940643707246,\n",
    "    720575940629693302,\n",
    "    720575940630271862,\n",
    "    720575940648747385,\n",
    "    720575940621009023,\n",
    "    720575940627264262,\n",
    "    720575940625148174,\n",
    "    720575940613942045,\n",
    "    720575940613941533,\n",
    "    720575940613942301,\n",
    "    720575940613942557,\n",
    "    720575940634781620,\n",
    "    720575940625657928,\n",
    "    720575940622112726,\n",
    "    720575940623209703,\n",
    "    720575940633670904,\n",
    "    720575940629275898\n",
    "    ]"
   ]
  },
  {
   "cell_type": "code",
   "execution_count": 20,
   "metadata": {},
   "outputs": [
    {
     "data": {
      "text/plain": [
       "{720575940638509952: 'bitter_L_1',\n",
       " 720575940616239873: 'bitter_L_2',\n",
       " 720575940624673936: 'bitter_L_3',\n",
       " 720575940614634786: 'bitter_L_4',\n",
       " 720575940617969961: 'bitter_L_5',\n",
       " 720575940620634537: 'bitter_L_6',\n",
       " 720575940630644281: 'bitter_L_7',\n",
       " 720575940635767524: 'bitter_L_8',\n",
       " 720575940633280107: 'bitter_L_9',\n",
       " 720575940618574983: 'bitter_L_10',\n",
       " 720575940624011278: 'bitter_L_11',\n",
       " 720575940627150991: 'bitter_L_12',\n",
       " 720575940635916942: 'bitter_L_13',\n",
       " 720575940622581651: 'bitter_L_14',\n",
       " 720575940614921501: 'bitter_L_15',\n",
       " 720575940617665950: 'bitter_L_16',\n",
       " 720575940614570793: 'bitter_L_17',\n",
       " 720575940617986089: 'bitter_L_18',\n",
       " 720575940603820716: 'bitter_L_19',\n",
       " 720575940617986345: 'bitter_L_20',\n",
       " 720575940617987113: 'bitter_L_21',\n",
       " 720575940605264305: 'bitter_L_22',\n",
       " 720575940614996018: 'bitter_L_23',\n",
       " 720575940623065013: 'bitter_L_24',\n",
       " 720575940620459702: 'bitter_L_25',\n",
       " 720575940638300093: 'bitter_L_26',\n",
       " 720575940622457028: 'bitter_L_27',\n",
       " 720575940622700749: 'bitter_L_28',\n",
       " 720575940609792206: 'bitter_L_29',\n",
       " 720575940614711638: 'bitter_L_30',\n",
       " 720575940618531544: 'bitter_L_31',\n",
       " 720575940637096026: 'bitter_L_32',\n",
       " 720575940610460514: 'bitter_L_33',\n",
       " 720575940628945516: 'bitter_L_34',\n",
       " 720575940651079158: 'bitter_L_35',\n",
       " 720575940626580361: 'bitter_L_36',\n",
       " 720575940604931249: 'bitter_L_37',\n",
       " 720575940622625097: 'bitter_L_38',\n",
       " 720575940615553397: 'bitter_L_39'}"
      ]
     },
     "execution_count": 20,
     "metadata": {},
     "output_type": "execute_result"
    }
   ],
   "source": [
    "flyid2name_thermoL = { f: 'thermo_L_{}'.format(i+1) for i, f in enumerate(thermo_L) }\n",
    "flyid2name_hygroL = { f: 'hygro_L_{}'.format(i+1) for i, f in enumerate(hygro_L) }\n",
    "\n",
    "# view example\n",
    "flyid2name_hygroL"
   ]
  },
  {
   "cell_type": "markdown",
   "metadata": {},
   "source": [
    "# Running simulations\n",
    "## Background info:\n",
    "To run a simulation exciting these nerons we have to call `run_exp` supplying the following:\n",
    "- unique name for the simulation: `exp_name`\n",
    "- a list of neurons we want to stimulate: `thermo_L`\n",
    "- the connectivity data: `config['path_comp']` and `config['path_con]`\n",
    "- path to store the output: `config['path_res']`\n",
    "- number of CPU cores use: `config['n_procs]`\n",
    "\n",
    "The `.parquet` file created during a simulation contains all spikes events of all neurons in the model.\n",
    "We load the data again from disk by passing a list of result files to the `utl.load_exps` function.\n",
    "\n",
    "The spike times can be converted to spike rates [Hz] via `utl.get_rate`, which requires the duration of each trial.\n",
    "`utl.get_rate` returns `pandas.DataFrame` objects:\n",
    "1. spike rate for each neuron (rows) in each experiment (column): `df_rate`\n",
    "2. standard deviation of rate across trials: `df_rate_std`\n",
    "\n",
    "For convenience, we can optionally pass the `flyid2name` dictionary to `utl.get_rate` in order to convert flywire IDs into\n",
    "meaningful names."
   ]
  },
  {
   "cell_type": "code",
   "execution_count": 21,
   "metadata": {},
   "outputs": [
    {
     "data": {
      "text/plain": [
       "{'t_run': 1. * second,\n",
       " 'n_run': 30,\n",
       " 'v_0': -52. * mvolt,\n",
       " 'v_rst': -52. * mvolt,\n",
       " 'v_th': -45. * mvolt,\n",
       " 't_mbr': 20. * msecond,\n",
       " 'tau': 5. * msecond,\n",
       " 't_rfc': 2.2 * msecond,\n",
       " 't_dly': 1.8 * msecond,\n",
       " 'w_syn': 275. * uvolt,\n",
       " 'r_poi': 25. * hertz,\n",
       " 'r_poi2': 0. * hertz,\n",
       " 'f_poi': 250,\n",
       " 'eqs': '\\ndv/dt = (v_0 - v + g) / t_mbr : volt (unless refractory)\\ndg/dt = -g / tau               : volt (unless refractory) \\nrfc                            : second\\n',\n",
       " 'eq_th': 'v > v_th',\n",
       " 'eq_rst': 'v = v_rst; w = 0; g = 0 * mV'}"
      ]
     },
     "execution_count": 21,
     "metadata": {},
     "output_type": "execute_result"
    }
   ],
   "source": [
    "#show default params\n",
    "params"
   ]
  },
  {
   "cell_type": "markdown",
   "metadata": {},
   "source": [
    "## Thermosensory neuron activation"
   ]
  },
  {
   "cell_type": "code",
   "execution_count": 23,
   "metadata": {},
   "outputs": [
    {
     "name": "stdout",
     "output_type": "stream",
     "text": [
      ">>> Experiment:     thermo_25Hz\n",
      "    Output file:    results\\thermo_25Hz.parquet\n",
      "    Excited neurons: 13\n"
     ]
    },
    {
     "name": "stderr",
     "output_type": "stream",
     "text": [
      "WARNING    c:\\Users\\snkyl\\miniconda3\\Lib\\site-packages\\joblib\\externals\\loky\\process_executor.py:752: UserWarning: A worker stopped while some jobs were given to the executor. This can be caused by a too short worker timeout or by a memory leak.\n",
      "  warnings.warn(\n",
      " [py.warnings]\n"
     ]
    },
    {
     "name": "stdout",
     "output_type": "stream",
     "text": [
      "    Elapsed time:   1714 s\n",
      ">>> Experiment:     thermo_50Hz\n",
      "    Output file:    results\\thermo_50Hz.parquet\n",
      "    Excited neurons: 13\n",
      "    Elapsed time:   1712 s\n",
      ">>> Experiment:     thermo_75Hz\n",
      "    Output file:    results\\thermo_75Hz.parquet\n",
      "    Excited neurons: 13\n"
     ]
    },
    {
     "name": "stderr",
     "output_type": "stream",
     "text": [
      "WARNING    c:\\Users\\snkyl\\miniconda3\\Lib\\site-packages\\joblib\\externals\\loky\\process_executor.py:752: UserWarning: A worker stopped while some jobs were given to the executor. This can be caused by a too short worker timeout or by a memory leak.\n",
      "  warnings.warn(\n",
      " [py.warnings]\n"
     ]
    },
    {
     "name": "stdout",
     "output_type": "stream",
     "text": [
      "    Elapsed time:   1712 s\n",
      ">>> Experiment:     thermo_100Hz\n",
      "    Output file:    results\\thermo_100Hz.parquet\n",
      "    Excited neurons: 13\n"
     ]
    },
    {
     "name": "stderr",
     "output_type": "stream",
     "text": [
      "WARNING    c:\\Users\\snkyl\\miniconda3\\Lib\\site-packages\\joblib\\externals\\loky\\process_executor.py:752: UserWarning: A worker stopped while some jobs were given to the executor. This can be caused by a too short worker timeout or by a memory leak.\n",
      "  warnings.warn(\n",
      " [py.warnings]\n"
     ]
    },
    {
     "name": "stdout",
     "output_type": "stream",
     "text": [
      "    Elapsed time:   1712 s\n",
      ">>> Experiment:     thermo_125Hz\n",
      "    Output file:    results\\thermo_125Hz.parquet\n",
      "    Excited neurons: 13\n",
      "    Elapsed time:   1713 s\n",
      ">>> Experiment:     thermo_150Hz\n",
      "    Output file:    results\\thermo_150Hz.parquet\n",
      "    Excited neurons: 13\n",
      "    Elapsed time:   1696 s\n",
      ">>> Experiment:     thermo_175Hz\n",
      "    Output file:    results\\thermo_175Hz.parquet\n",
      "    Excited neurons: 13\n"
     ]
    },
    {
     "name": "stderr",
     "output_type": "stream",
     "text": [
      "WARNING    c:\\Users\\snkyl\\miniconda3\\Lib\\site-packages\\joblib\\externals\\loky\\process_executor.py:752: UserWarning: A worker stopped while some jobs were given to the executor. This can be caused by a too short worker timeout or by a memory leak.\n",
      "  warnings.warn(\n",
      " [py.warnings]\n"
     ]
    },
    {
     "name": "stdout",
     "output_type": "stream",
     "text": [
      "    Elapsed time:   1698 s\n",
      ">>> Experiment:     thermo_200Hz\n",
      "    Output file:    results\\thermo_200Hz.parquet\n",
      "    Excited neurons: 13\n"
     ]
    },
    {
     "name": "stderr",
     "output_type": "stream",
     "text": [
      "WARNING    c:\\Users\\snkyl\\miniconda3\\Lib\\site-packages\\joblib\\externals\\loky\\process_executor.py:752: UserWarning: A worker stopped while some jobs were given to the executor. This can be caused by a too short worker timeout or by a memory leak.\n",
      "  warnings.warn(\n",
      " [py.warnings]\n"
     ]
    },
    {
     "name": "stdout",
     "output_type": "stream",
     "text": [
      "    Elapsed time:   1697 s\n"
     ]
    }
   ],
   "source": [
    "# Run simulation at diff stim intensities\n",
    "\n",
    "for stim_rate in [5,10,15,20,25,50,75,100,125,150,175,200]: \n",
    "    \n",
    "    prefix = 'thermo_' + str(stim_rate) + 'Hz'\n",
    "    params['r_poi'] = stim_rate * Hz\n",
    "    run_exp(exp_name=prefix, neu_exc=thermo_L, params=params, **config)\n",
    "    \n",
    "    # extract results\n",
    "    datafilename = './results/' + prefix + '.parquet'\n",
    "    df_spike = utl.load_exps([datafilename])\n",
    "    df_rate, df_rate_std = utl.get_rate(df_spike, t_run=params['t_run'], n_run=params['n_run'], flyid2name=flyid2name_thermoL)\n",
    "    \n",
    "    # save dataframes to csv\n",
    "    savepath = 'results'\n",
    "    df_rate.fillna(0).to_csv(savepath + prefix + '_rates.csv')\n",
    "    df_rate_std.fillna(0).to_csv(savepath + prefix + '_std.csv')"
   ]
  },
  {
   "cell_type": "code",
   "execution_count": 24,
   "metadata": {},
   "outputs": [
    {
     "name": "stdout",
     "output_type": "stream",
     "text": [
      ">>> Experiment:     hygro_25Hz\n",
      "    Output file:    results\\hygro_25Hz.parquet\n",
      "    Excited neurons: 39\n"
     ]
    },
    {
     "name": "stderr",
     "output_type": "stream",
     "text": [
      "WARNING    c:\\Users\\snkyl\\miniconda3\\Lib\\site-packages\\joblib\\externals\\loky\\process_executor.py:752: UserWarning: A worker stopped while some jobs were given to the executor. This can be caused by a too short worker timeout or by a memory leak.\n",
      "  warnings.warn(\n",
      " [py.warnings]\n"
     ]
    },
    {
     "name": "stdout",
     "output_type": "stream",
     "text": [
      "    Elapsed time:   1736 s\n",
      ">>> Experiment:     hygro_50Hz\n",
      "    Output file:    results\\hygro_50Hz.parquet\n",
      "    Excited neurons: 39\n"
     ]
    },
    {
     "name": "stderr",
     "output_type": "stream",
     "text": [
      "WARNING    c:\\Users\\snkyl\\miniconda3\\Lib\\site-packages\\joblib\\externals\\loky\\process_executor.py:752: UserWarning: A worker stopped while some jobs were given to the executor. This can be caused by a too short worker timeout or by a memory leak.\n",
      "  warnings.warn(\n",
      " [py.warnings]\n"
     ]
    },
    {
     "name": "stdout",
     "output_type": "stream",
     "text": [
      "    Elapsed time:   1710 s\n",
      ">>> Experiment:     hygro_75Hz\n",
      "    Output file:    results\\hygro_75Hz.parquet\n",
      "    Excited neurons: 39\n"
     ]
    },
    {
     "name": "stderr",
     "output_type": "stream",
     "text": [
      "WARNING    c:\\Users\\snkyl\\miniconda3\\Lib\\site-packages\\joblib\\externals\\loky\\process_executor.py:752: UserWarning: A worker stopped while some jobs were given to the executor. This can be caused by a too short worker timeout or by a memory leak.\n",
      "  warnings.warn(\n",
      " [py.warnings]\n"
     ]
    },
    {
     "name": "stdout",
     "output_type": "stream",
     "text": [
      "    Elapsed time:   1715 s\n",
      ">>> Experiment:     hygro_100Hz\n",
      "    Output file:    results\\hygro_100Hz.parquet\n",
      "    Excited neurons: 39\n"
     ]
    },
    {
     "name": "stderr",
     "output_type": "stream",
     "text": [
      "WARNING    c:\\Users\\snkyl\\miniconda3\\Lib\\site-packages\\joblib\\externals\\loky\\process_executor.py:752: UserWarning: A worker stopped while some jobs were given to the executor. This can be caused by a too short worker timeout or by a memory leak.\n",
      "  warnings.warn(\n",
      " [py.warnings]\n"
     ]
    },
    {
     "name": "stdout",
     "output_type": "stream",
     "text": [
      "    Elapsed time:   1716 s\n",
      ">>> Experiment:     hygro_125Hz\n",
      "    Output file:    results\\hygro_125Hz.parquet\n",
      "    Excited neurons: 39\n",
      "    Elapsed time:   1719 s\n",
      ">>> Experiment:     hygro_150Hz\n",
      "    Output file:    results\\hygro_150Hz.parquet\n",
      "    Excited neurons: 39\n"
     ]
    },
    {
     "name": "stderr",
     "output_type": "stream",
     "text": [
      "WARNING    c:\\Users\\snkyl\\miniconda3\\Lib\\site-packages\\joblib\\externals\\loky\\process_executor.py:752: UserWarning: A worker stopped while some jobs were given to the executor. This can be caused by a too short worker timeout or by a memory leak.\n",
      "  warnings.warn(\n",
      " [py.warnings]\n"
     ]
    },
    {
     "name": "stdout",
     "output_type": "stream",
     "text": [
      "    Elapsed time:   1716 s\n",
      ">>> Experiment:     hygro_175Hz\n",
      "    Output file:    results\\hygro_175Hz.parquet\n",
      "    Excited neurons: 39\n"
     ]
    },
    {
     "name": "stderr",
     "output_type": "stream",
     "text": [
      "WARNING    c:\\Users\\snkyl\\miniconda3\\Lib\\site-packages\\joblib\\externals\\loky\\process_executor.py:752: UserWarning: A worker stopped while some jobs were given to the executor. This can be caused by a too short worker timeout or by a memory leak.\n",
      "  warnings.warn(\n",
      " [py.warnings]\n"
     ]
    },
    {
     "name": "stdout",
     "output_type": "stream",
     "text": [
      "    Elapsed time:   1707 s\n",
      ">>> Experiment:     hygro_200Hz\n",
      "    Output file:    results\\hygro_200Hz.parquet\n",
      "    Excited neurons: 39\n",
      "    Elapsed time:   1711 s\n"
     ]
    }
   ],
   "source": [
    "# Run simulation at diff stim intensities\n",
    "\n",
    "for stim_rate in [5,10,15,20,25,50,75,100,125,150,175,200]: \n",
    "    \n",
    "    prefix = 'hygro_' + str(stim_rate) + 'Hz'\n",
    "    params['r_poi'] = stim_rate * Hz\n",
    "    run_exp(exp_name=prefix, neu_exc=hygro_L, params=params, **config)\n",
    "    \n",
    "    # extract results\n",
    "    datafilename = './results/' + prefix + '.parquet'\n",
    "    df_spike = utl.load_exps([datafilename])\n",
    "    df_rate, df_rate_std = utl.get_rate(df_spike, t_run=params['t_run'], n_run=params['n_run'], flyid2name=flyid2name_hygroL)\n",
    "    \n",
    "    # save dataframes to csv\n",
    "    savepath = 'results'\n",
    "    df_rate.fillna(0).to_csv(savepath + prefix + '_rates.csv')\n",
    "    df_rate_std.fillna(0).to_csv(savepath + prefix + '_std.csv')"
   ]
  }
 ],
 "metadata": {
  "kernelspec": {
   "display_name": "base",
   "language": "python",
   "name": "python3"
  },
  "language_info": {
   "codemirror_mode": {
    "name": "ipython",
    "version": 3
   },
   "file_extension": ".py",
   "mimetype": "text/x-python",
   "name": "python",
   "nbconvert_exporter": "python",
   "pygments_lexer": "ipython3",
   "version": "3.10.4"
  }
 },
 "nbformat": 4,
 "nbformat_minor": 2
}
