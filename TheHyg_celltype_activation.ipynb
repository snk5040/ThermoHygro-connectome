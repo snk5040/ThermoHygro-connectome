{
 "cells": [
  {
   "cell_type": "markdown",
   "metadata": {},
   "source": [
    "## This code performs whole-brain simulations where thermo- and hygrosensory neurons are activated and the activity of all other neurons is recorded.  This set of simulations will simulate specific cell types.\n",
    "\n",
    "### Simulations are based on the leaky integrate and fire model by Shiu et al. (bioRxiv, 2023). \n",
    "\n",
    "### This notebook is adapted from one generously shared by Philip Shiu et al. (https://github.com/philshiu/Drosophila_brain_model)"
   ]
  },
  {
   "cell_type": "code",
   "execution_count": 6,
   "metadata": {},
   "outputs": [],
   "source": [
    "from model import run_exp\n",
    "from model import default_params as params\n",
    "import utils as utl\n",
    "from brian2 import Hz\n",
    "\n",
    "config = {\n",
    "    'path_res'  : './results/cellTypes',                     # directory to store results\n",
    "    'path_comp' : './ShiuFiles/Completeness_783.csv',        # csv of the complete list of Flywire neurons\n",
    "    'path_con'  : './ShiuFiles/Connectivity_783.parquet',    # connectivity data\n",
    "    'n_proc'    : -1,                                               # number of CPU cores (-1: use all)\n",
    "}"
   ]
  },
  {
   "cell_type": "markdown",
   "metadata": {},
   "source": [
    "## Underlying connectivity data\n",
    "The connectivity of the fly brain is stored in the folowing files:\n",
    "- neurons present: `config['path_comp']`\n",
    "- connectivity between neurons: `config['path_con]`\n",
    "\n",
    "## Model parameters\n",
    "The equation and constants for the leaky integrate and fire model are defined \n",
    "in the dictionary `default_params` in the beginning of the file `model.py`:\n",
    "\n",
    "```\n",
    "default_params = {\n",
    "    # trials\n",
    "    't_run'     : 1000 * ms,              # duration of trial\n",
    "    'n_run'     : 30,                     # number of runs\n",
    "\n",
    "    'v_0'       : -52 * mV,               # resting potential\n",
    "    'v_rst'     : -52 * mV,               # reset potential after spike\n",
    "    [...]\n",
    "```\n",
    "We can also change values\n",
    "and pass the modified dictionary to the model (see Experiment 1).\n",
    "\n",
    "## First, define each set of GRNs.\n",
    "## We are using the same neurons as for the connectome analyses."
   ]
  },
  {
   "cell_type": "code",
   "execution_count": 7,
   "metadata": {},
   "outputs": [],
   "source": [
    "# VP2 thermosensory neurons reactive to heating\n",
    "vp2 = [\n",
    "    720575940619930534,\n",
    "    720575940611720362,\n",
    "    720575940615856345,\n",
    "    720575940617041728,\n",
    "    720575940646372228,\n",
    "    720575940636878254,\n",
    "    720575940638389437\n",
    "    ]\n",
    "\n",
    "# VP3a thermosensory neurons reactive to cooling\n",
    "vp3a = [\n",
    "    720575940616999069,\n",
    "    720575940621659563,\n",
    "    720575940621831804,\n",
    "    720575940625293514,\n",
    "    720575940627677258,\n",
    "    720575940613191591,\n",
    "    720575940650751873\n",
    "    ]\n",
    "\n",
    "# VP1m thermosensory? neurons, putative humid reactivity\n",
    "vp1m = [\n",
    "    720575940613794114,\n",
    "    720575940616039197,\n",
    "    720575940618512624,\n",
    "    720575940619024774,\n",
    "    720575940623793741,\n",
    "    720575940627944464,\n",
    "    720575940629007230,\n",
    "    720575940631875298,\n",
    "    720575940632913461,\n",
    "    720575940633059381,\n",
    "    720575940635969399,\n",
    "    720575940646785924,\n",
    "    720575940622082518\n",
    "    ]\n",
    "\n",
    "# VP4 hygrosensory neurons reactive to dryness\n",
    "vp4 = [\n",
    "    720575940613914774,\n",
    "    720575940616239873,\n",
    "    720575940617969961,\n",
    "    720575940620602236,\n",
    "    720575940620634537,\n",
    "    720575940624673936,\n",
    "    720575940630644281,\n",
    "    720575940633280107,\n",
    "    720575940638509952,\n",
    "    720575940611377893,\n",
    "    720575940614711638,\n",
    "    720575940614919709,\n",
    "    720575940618531544,\n",
    "    720575940618574983,\n",
    "    720575940619075073,\n",
    "    720575940621009023,\n",
    "    720575940622581651,\n",
    "    720575940623030861,\n",
    "    720575940623065013,\n",
    "    720575940625868184,\n",
    "    720575940626256992,\n",
    "    720575940627150991,\n",
    "    720575940628945516,\n",
    "    720575940630282297,\n",
    "    720575940637494837,\n",
    "    720575940643707246,\n",
    "    720575940622625097,\n",
    "    720575940629275898,\n",
    "    720575940633670904\n",
    "    ]\n",
    "\n",
    "# VP5 hygrosensory neurons reactive to humidity\n",
    "vp5 = [\n",
    "    720575940614634786,\n",
    "    720575940635767524,\n",
    "    720575940614842262,\n",
    "    720575940614996018,\n",
    "    720575940620459702,\n",
    "    720575940622457028,\n",
    "    720575940624011278,\n",
    "    720575940626125626,\n",
    "    720575940629693302,\n",
    "    720575940632714465,\n",
    "    720575940633274524,\n",
    "    720575940637096026,\n",
    "    720575940638300093,\n",
    "    720575940648747385,\n",
    "    720575940615553397,\n",
    "    720575940627264262\n",
    "    ]\n",
    "\n",
    "# VP1d hygrosensory? neurons, putative reactive to evaporation\n",
    "vp1d = [\n",
    "    720575940603820716,\n",
    "    720575940605264305,\n",
    "    720575940609792206,\n",
    "    720575940610460514,\n",
    "    720575940614570793,\n",
    "    720575940617665950,\n",
    "    720575940617986089,\n",
    "    720575940617986345,\n",
    "    720575940620847086,\n",
    "    720575940623476661,\n",
    "    720575940627271230,\n",
    "    720575940630271862,\n",
    "    720575940635916942,\n",
    "    720575940622112726,\n",
    "    720575940623209703,\n",
    "    720575940634781620\n",
    "    ]\n",
    "\n",
    "# VP1l hygrosensory? neurons, putative reactive to cooling\n",
    "vp1l = [\n",
    "    720575940614921501,\n",
    "    720575940617987113,\n",
    "    720575940620644446,\n",
    "    720575940622700749,\n",
    "    720575940651079158,\n",
    "    720575940604931249,\n",
    "    720575940613941533,\n",
    "    720575940613942045,\n",
    "    720575940613942301,\n",
    "    720575940613942557,\n",
    "    720575940625148174,\n",
    "    720575940625657928,\n",
    "    720575940626580361\n",
    "    ]"
   ]
  },
  {
   "cell_type": "code",
   "execution_count": 8,
   "metadata": {},
   "outputs": [
    {
     "data": {
      "text/plain": [
       "{720575940614921501: 'vp1l_1',\n",
       " 720575940617987113: 'vp1l_2',\n",
       " 720575940620644446: 'vp1l_3',\n",
       " 720575940622700749: 'vp1l_4',\n",
       " 720575940651079158: 'vp1l_5',\n",
       " 720575940604931249: 'vp1l_6',\n",
       " 720575940613941533: 'vp1l_7',\n",
       " 720575940613942045: 'vp1l_8',\n",
       " 720575940613942301: 'vp1l_9',\n",
       " 720575940613942557: 'vp1l_10',\n",
       " 720575940625148174: 'vp1l_11',\n",
       " 720575940625657928: 'vp1l_12',\n",
       " 720575940626580361: 'vp1l_13'}"
      ]
     },
     "execution_count": 8,
     "metadata": {},
     "output_type": "execute_result"
    }
   ],
   "source": [
    "flyid2name_vp2 = { f: 'vp2_{}'.format(i+1) for i, f in enumerate(vp2) }  # Heating\n",
    "flyid2name_vp3a = { f: 'vp3a_{}'.format(i+1) for i, f in enumerate(vp3a) } # Cooling\n",
    "flyid2name_vp1m = { f: 'vp1m_{}'.format(i+1) for i, f in enumerate(vp1m) } # Humidity?\n",
    "flyid2name_vp4 = { f: 'vp4_{}'.format(i+1) for i, f in enumerate(vp4) } # Dryness\n",
    "flyid2name_vp5 = { f: 'vp5_{}'.format(i+1) for i, f in enumerate(vp5) } # Humidity\n",
    "flyid2name_vp1d = { f: 'vp1d_{}'.format(i+1) for i, f in enumerate(vp1d) } # Evaporation?\n",
    "flyid2name_vp1l = { f: 'vp1l_{}'.format(i+1) for i, f in enumerate(vp1l) } # Cooling?\n",
    "\n",
    "# view example\n",
    "flyid2name_vp1l"
   ]
  },
  {
   "cell_type": "markdown",
   "metadata": {},
   "source": [
    "# Running simulations\n",
    "## Background info:\n",
    "To run a simulation exciting these nerons we have to call `run_exp` supplying the following:\n",
    "- unique name for the simulation: `exp_name`\n",
    "- a list of neurons we want to stimulate: `thermo_L`\n",
    "- the connectivity data: `config['path_comp']` and `config['path_con]`\n",
    "- path to store the output: `config['path_res']`\n",
    "- number of CPU cores use: `config['n_procs]`\n",
    "\n",
    "The `.parquet` file created during a simulation contains all spikes events of all neurons in the model.\n",
    "We load the data again from disk by passing a list of result files to the `utl.load_exps` function.\n",
    "\n",
    "The spike times can be converted to spike rates [Hz] via `utl.get_rate`, which requires the duration of each trial.\n",
    "`utl.get_rate` returns `pandas.DataFrame` objects:\n",
    "1. spike rate for each neuron (rows) in each experiment (column): `df_rate`\n",
    "2. standard deviation of rate across trials: `df_rate_std`\n",
    "\n",
    "For convenience, we can optionally pass the `flyid2name` dictionary to `utl.get_rate` in order to convert flywire IDs into\n",
    "meaningful names."
   ]
  },
  {
   "cell_type": "code",
   "execution_count": 9,
   "metadata": {},
   "outputs": [
    {
     "data": {
      "text/plain": [
       "{'t_run': 1. * second,\n",
       " 'n_run': 30,\n",
       " 'v_0': -52. * mvolt,\n",
       " 'v_rst': -52. * mvolt,\n",
       " 'v_th': -45. * mvolt,\n",
       " 't_mbr': 20. * msecond,\n",
       " 'tau': 5. * msecond,\n",
       " 't_rfc': 2.2 * msecond,\n",
       " 't_dly': 1.8 * msecond,\n",
       " 'w_syn': 275. * uvolt,\n",
       " 'r_poi': 25. * hertz,\n",
       " 'r_poi2': 0. * hertz,\n",
       " 'f_poi': 250,\n",
       " 'eqs': '\\ndv/dt = (v_0 - v + g) / t_mbr : volt (unless refractory)\\ndg/dt = -g / tau               : volt (unless refractory) \\nrfc                            : second\\n',\n",
       " 'eq_th': 'v > v_th',\n",
       " 'eq_rst': 'v = v_rst; w = 0; g = 0 * mV'}"
      ]
     },
     "execution_count": 9,
     "metadata": {},
     "output_type": "execute_result"
    }
   ],
   "source": [
    "#show default params\n",
    "params"
   ]
  },
  {
   "cell_type": "markdown",
   "metadata": {},
   "source": [
    "## Thermosensory neuron cell types activation"
   ]
  },
  {
   "cell_type": "code",
   "execution_count": 10,
   "metadata": {},
   "outputs": [
    {
     "name": "stdout",
     "output_type": "stream",
     "text": [
      ">>> Experiment:     vp2_25Hz\n",
      "    Output file:    results\\cellTypes\\vp2_25Hz.parquet\n",
      "    Excited neurons: 7\n",
      "    Elapsed time:   1773 s\n",
      ">>> Experiment:     vp2_50Hz\n",
      "    Output file:    results\\cellTypes\\vp2_50Hz.parquet\n",
      "    Excited neurons: 7\n",
      "    Elapsed time:   1789 s\n",
      ">>> Experiment:     vp2_75Hz\n",
      "    Output file:    results\\cellTypes\\vp2_75Hz.parquet\n",
      "    Excited neurons: 7\n"
     ]
    },
    {
     "name": "stderr",
     "output_type": "stream",
     "text": [
      "WARNING    c:\\Users\\snkyl\\miniconda3\\Lib\\site-packages\\joblib\\externals\\loky\\process_executor.py:752: UserWarning: A worker stopped while some jobs were given to the executor. This can be caused by a too short worker timeout or by a memory leak.\n",
      "  warnings.warn(\n",
      " [py.warnings]\n"
     ]
    },
    {
     "name": "stdout",
     "output_type": "stream",
     "text": [
      "    Elapsed time:   1767 s\n",
      ">>> Experiment:     vp2_100Hz\n",
      "    Output file:    results\\cellTypes\\vp2_100Hz.parquet\n",
      "    Excited neurons: 7\n"
     ]
    },
    {
     "name": "stderr",
     "output_type": "stream",
     "text": [
      "WARNING    c:\\Users\\snkyl\\miniconda3\\Lib\\site-packages\\joblib\\externals\\loky\\process_executor.py:752: UserWarning: A worker stopped while some jobs were given to the executor. This can be caused by a too short worker timeout or by a memory leak.\n",
      "  warnings.warn(\n",
      " [py.warnings]\n"
     ]
    },
    {
     "name": "stdout",
     "output_type": "stream",
     "text": [
      "    Elapsed time:   1767 s\n",
      ">>> Experiment:     vp2_125Hz\n",
      "    Output file:    results\\cellTypes\\vp2_125Hz.parquet\n",
      "    Excited neurons: 7\n"
     ]
    },
    {
     "name": "stderr",
     "output_type": "stream",
     "text": [
      "WARNING    c:\\Users\\snkyl\\miniconda3\\Lib\\site-packages\\joblib\\externals\\loky\\process_executor.py:752: UserWarning: A worker stopped while some jobs were given to the executor. This can be caused by a too short worker timeout or by a memory leak.\n",
      "  warnings.warn(\n",
      " [py.warnings]\n"
     ]
    },
    {
     "name": "stdout",
     "output_type": "stream",
     "text": [
      "    Elapsed time:   1775 s\n",
      ">>> Experiment:     vp2_150Hz\n",
      "    Output file:    results\\cellTypes\\vp2_150Hz.parquet\n",
      "    Excited neurons: 7\n"
     ]
    },
    {
     "name": "stderr",
     "output_type": "stream",
     "text": [
      "WARNING    c:\\Users\\snkyl\\miniconda3\\Lib\\site-packages\\joblib\\externals\\loky\\process_executor.py:752: UserWarning: A worker stopped while some jobs were given to the executor. This can be caused by a too short worker timeout or by a memory leak.\n",
      "  warnings.warn(\n",
      " [py.warnings]\n"
     ]
    },
    {
     "name": "stdout",
     "output_type": "stream",
     "text": [
      "    Elapsed time:   1761 s\n",
      ">>> Experiment:     vp2_175Hz\n",
      "    Output file:    results\\cellTypes\\vp2_175Hz.parquet\n",
      "    Excited neurons: 7\n",
      "    Elapsed time:   1771 s\n",
      ">>> Experiment:     vp2_200Hz\n",
      "    Output file:    results\\cellTypes\\vp2_200Hz.parquet\n",
      "    Excited neurons: 7\n"
     ]
    },
    {
     "name": "stderr",
     "output_type": "stream",
     "text": [
      "WARNING    c:\\Users\\snkyl\\miniconda3\\Lib\\site-packages\\joblib\\externals\\loky\\process_executor.py:752: UserWarning: A worker stopped while some jobs were given to the executor. This can be caused by a too short worker timeout or by a memory leak.\n",
      "  warnings.warn(\n",
      " [py.warnings]\n"
     ]
    },
    {
     "name": "stdout",
     "output_type": "stream",
     "text": [
      "    Elapsed time:   1770 s\n",
      ">>> Experiment:     vp3a_25Hz\n",
      "    Output file:    results\\cellTypes\\vp3a_25Hz.parquet\n",
      "    Excited neurons: 7\n"
     ]
    },
    {
     "name": "stderr",
     "output_type": "stream",
     "text": [
      "WARNING    c:\\Users\\snkyl\\miniconda3\\Lib\\site-packages\\joblib\\externals\\loky\\process_executor.py:752: UserWarning: A worker stopped while some jobs were given to the executor. This can be caused by a too short worker timeout or by a memory leak.\n",
      "  warnings.warn(\n",
      " [py.warnings]\n"
     ]
    },
    {
     "name": "stdout",
     "output_type": "stream",
     "text": [
      "    Elapsed time:   1738 s\n",
      ">>> Experiment:     vp3a_50Hz\n",
      "    Output file:    results\\cellTypes\\vp3a_50Hz.parquet\n",
      "    Excited neurons: 7\n"
     ]
    },
    {
     "name": "stderr",
     "output_type": "stream",
     "text": [
      "WARNING    c:\\Users\\snkyl\\miniconda3\\Lib\\site-packages\\joblib\\externals\\loky\\process_executor.py:752: UserWarning: A worker stopped while some jobs were given to the executor. This can be caused by a too short worker timeout or by a memory leak.\n",
      "  warnings.warn(\n",
      " [py.warnings]\n"
     ]
    },
    {
     "name": "stdout",
     "output_type": "stream",
     "text": [
      "    Elapsed time:   1749 s\n",
      ">>> Experiment:     vp3a_75Hz\n",
      "    Output file:    results\\cellTypes\\vp3a_75Hz.parquet\n",
      "    Excited neurons: 7\n"
     ]
    },
    {
     "name": "stderr",
     "output_type": "stream",
     "text": [
      "WARNING    c:\\Users\\snkyl\\miniconda3\\Lib\\site-packages\\joblib\\externals\\loky\\process_executor.py:752: UserWarning: A worker stopped while some jobs were given to the executor. This can be caused by a too short worker timeout or by a memory leak.\n",
      "  warnings.warn(\n",
      " [py.warnings]\n"
     ]
    },
    {
     "name": "stdout",
     "output_type": "stream",
     "text": [
      "    Elapsed time:   1748 s\n",
      ">>> Experiment:     vp3a_100Hz\n",
      "    Output file:    results\\cellTypes\\vp3a_100Hz.parquet\n",
      "    Excited neurons: 7\n"
     ]
    },
    {
     "name": "stderr",
     "output_type": "stream",
     "text": [
      "WARNING    c:\\Users\\snkyl\\miniconda3\\Lib\\site-packages\\joblib\\externals\\loky\\process_executor.py:752: UserWarning: A worker stopped while some jobs were given to the executor. This can be caused by a too short worker timeout or by a memory leak.\n",
      "  warnings.warn(\n",
      " [py.warnings]\n"
     ]
    },
    {
     "name": "stdout",
     "output_type": "stream",
     "text": [
      "    Elapsed time:   1757 s\n",
      ">>> Experiment:     vp3a_125Hz\n",
      "    Output file:    results\\cellTypes\\vp3a_125Hz.parquet\n",
      "    Excited neurons: 7\n"
     ]
    },
    {
     "name": "stderr",
     "output_type": "stream",
     "text": [
      "WARNING    c:\\Users\\snkyl\\miniconda3\\Lib\\site-packages\\joblib\\externals\\loky\\process_executor.py:752: UserWarning: A worker stopped while some jobs were given to the executor. This can be caused by a too short worker timeout or by a memory leak.\n",
      "  warnings.warn(\n",
      " [py.warnings]\n"
     ]
    },
    {
     "name": "stdout",
     "output_type": "stream",
     "text": [
      "    Elapsed time:   1745 s\n",
      ">>> Experiment:     vp3a_150Hz\n",
      "    Output file:    results\\cellTypes\\vp3a_150Hz.parquet\n",
      "    Excited neurons: 7\n",
      "    Elapsed time:   1742 s\n",
      ">>> Experiment:     vp3a_175Hz\n",
      "    Output file:    results\\cellTypes\\vp3a_175Hz.parquet\n",
      "    Excited neurons: 7\n"
     ]
    },
    {
     "name": "stderr",
     "output_type": "stream",
     "text": [
      "WARNING    c:\\Users\\snkyl\\miniconda3\\Lib\\site-packages\\joblib\\externals\\loky\\process_executor.py:752: UserWarning: A worker stopped while some jobs were given to the executor. This can be caused by a too short worker timeout or by a memory leak.\n",
      "  warnings.warn(\n",
      " [py.warnings]\n"
     ]
    },
    {
     "name": "stdout",
     "output_type": "stream",
     "text": [
      "    Elapsed time:   1740 s\n",
      ">>> Experiment:     vp3a_200Hz\n",
      "    Output file:    results\\cellTypes\\vp3a_200Hz.parquet\n",
      "    Excited neurons: 7\n"
     ]
    },
    {
     "name": "stderr",
     "output_type": "stream",
     "text": [
      "WARNING    c:\\Users\\snkyl\\miniconda3\\Lib\\site-packages\\joblib\\externals\\loky\\process_executor.py:752: UserWarning: A worker stopped while some jobs were given to the executor. This can be caused by a too short worker timeout or by a memory leak.\n",
      "  warnings.warn(\n",
      " [py.warnings]\n"
     ]
    },
    {
     "name": "stdout",
     "output_type": "stream",
     "text": [
      "    Elapsed time:   1746 s\n",
      ">>> Experiment:     vp1m_25Hz\n",
      "    Output file:    results\\cellTypes\\vp1m_25Hz.parquet\n",
      "    Excited neurons: 13\n"
     ]
    },
    {
     "name": "stderr",
     "output_type": "stream",
     "text": [
      "WARNING    c:\\Users\\snkyl\\miniconda3\\Lib\\site-packages\\joblib\\externals\\loky\\process_executor.py:752: UserWarning: A worker stopped while some jobs were given to the executor. This can be caused by a too short worker timeout or by a memory leak.\n",
      "  warnings.warn(\n",
      " [py.warnings]\n"
     ]
    },
    {
     "name": "stdout",
     "output_type": "stream",
     "text": [
      "    Elapsed time:   1749 s\n",
      ">>> Experiment:     vp1m_50Hz\n",
      "    Output file:    results\\cellTypes\\vp1m_50Hz.parquet\n",
      "    Excited neurons: 13\n"
     ]
    },
    {
     "name": "stderr",
     "output_type": "stream",
     "text": [
      "WARNING    c:\\Users\\snkyl\\miniconda3\\Lib\\site-packages\\joblib\\externals\\loky\\process_executor.py:752: UserWarning: A worker stopped while some jobs were given to the executor. This can be caused by a too short worker timeout or by a memory leak.\n",
      "  warnings.warn(\n",
      " [py.warnings]\n"
     ]
    },
    {
     "name": "stdout",
     "output_type": "stream",
     "text": [
      "    Elapsed time:   1771 s\n",
      ">>> Experiment:     vp1m_75Hz\n",
      "    Output file:    results\\cellTypes\\vp1m_75Hz.parquet\n",
      "    Excited neurons: 13\n"
     ]
    },
    {
     "name": "stderr",
     "output_type": "stream",
     "text": [
      "WARNING    c:\\Users\\snkyl\\miniconda3\\Lib\\site-packages\\joblib\\externals\\loky\\process_executor.py:752: UserWarning: A worker stopped while some jobs were given to the executor. This can be caused by a too short worker timeout or by a memory leak.\n",
      "  warnings.warn(\n",
      " [py.warnings]\n"
     ]
    },
    {
     "name": "stdout",
     "output_type": "stream",
     "text": [
      "    Elapsed time:   1774 s\n",
      ">>> Experiment:     vp1m_100Hz\n",
      "    Output file:    results\\cellTypes\\vp1m_100Hz.parquet\n",
      "    Excited neurons: 13\n",
      "    Elapsed time:   1755 s\n",
      ">>> Experiment:     vp1m_125Hz\n",
      "    Output file:    results\\cellTypes\\vp1m_125Hz.parquet\n",
      "    Excited neurons: 13\n"
     ]
    },
    {
     "name": "stderr",
     "output_type": "stream",
     "text": [
      "WARNING    c:\\Users\\snkyl\\miniconda3\\Lib\\site-packages\\joblib\\externals\\loky\\process_executor.py:752: UserWarning: A worker stopped while some jobs were given to the executor. This can be caused by a too short worker timeout or by a memory leak.\n",
      "  warnings.warn(\n",
      " [py.warnings]\n"
     ]
    },
    {
     "name": "stdout",
     "output_type": "stream",
     "text": [
      "    Elapsed time:   1772 s\n",
      ">>> Experiment:     vp1m_150Hz\n",
      "    Output file:    results\\cellTypes\\vp1m_150Hz.parquet\n",
      "    Excited neurons: 13\n",
      "    Elapsed time:   1770 s\n",
      ">>> Experiment:     vp1m_175Hz\n",
      "    Output file:    results\\cellTypes\\vp1m_175Hz.parquet\n",
      "    Excited neurons: 13\n"
     ]
    },
    {
     "name": "stderr",
     "output_type": "stream",
     "text": [
      "WARNING    c:\\Users\\snkyl\\miniconda3\\Lib\\site-packages\\joblib\\externals\\loky\\process_executor.py:752: UserWarning: A worker stopped while some jobs were given to the executor. This can be caused by a too short worker timeout or by a memory leak.\n",
      "  warnings.warn(\n",
      " [py.warnings]\n"
     ]
    },
    {
     "name": "stdout",
     "output_type": "stream",
     "text": [
      "    Elapsed time:   1770 s\n",
      ">>> Experiment:     vp1m_200Hz\n",
      "    Output file:    results\\cellTypes\\vp1m_200Hz.parquet\n",
      "    Excited neurons: 13\n"
     ]
    },
    {
     "name": "stderr",
     "output_type": "stream",
     "text": [
      "WARNING    c:\\Users\\snkyl\\miniconda3\\Lib\\site-packages\\joblib\\externals\\loky\\process_executor.py:752: UserWarning: A worker stopped while some jobs were given to the executor. This can be caused by a too short worker timeout or by a memory leak.\n",
      "  warnings.warn(\n",
      " [py.warnings]\n"
     ]
    },
    {
     "name": "stdout",
     "output_type": "stream",
     "text": [
      "    Elapsed time:   1769 s\n",
      ">>> Experiment:     vp4_25Hz\n",
      "    Output file:    results\\cellTypes\\vp4_25Hz.parquet\n",
      "    Excited neurons: 29\n"
     ]
    },
    {
     "name": "stderr",
     "output_type": "stream",
     "text": [
      "WARNING    c:\\Users\\snkyl\\miniconda3\\Lib\\site-packages\\joblib\\externals\\loky\\process_executor.py:752: UserWarning: A worker stopped while some jobs were given to the executor. This can be caused by a too short worker timeout or by a memory leak.\n",
      "  warnings.warn(\n",
      " [py.warnings]\n"
     ]
    },
    {
     "name": "stdout",
     "output_type": "stream",
     "text": [
      "    Elapsed time:   1776 s\n",
      ">>> Experiment:     vp4_50Hz\n",
      "    Output file:    results\\cellTypes\\vp4_50Hz.parquet\n",
      "    Excited neurons: 29\n"
     ]
    },
    {
     "name": "stderr",
     "output_type": "stream",
     "text": [
      "WARNING    c:\\Users\\snkyl\\miniconda3\\Lib\\site-packages\\joblib\\externals\\loky\\process_executor.py:752: UserWarning: A worker stopped while some jobs were given to the executor. This can be caused by a too short worker timeout or by a memory leak.\n",
      "  warnings.warn(\n",
      " [py.warnings]\n"
     ]
    },
    {
     "name": "stdout",
     "output_type": "stream",
     "text": [
      "    Elapsed time:   1774 s\n",
      ">>> Experiment:     vp4_75Hz\n",
      "    Output file:    results\\cellTypes\\vp4_75Hz.parquet\n",
      "    Excited neurons: 29\n"
     ]
    },
    {
     "name": "stderr",
     "output_type": "stream",
     "text": [
      "WARNING    c:\\Users\\snkyl\\miniconda3\\Lib\\site-packages\\joblib\\externals\\loky\\process_executor.py:752: UserWarning: A worker stopped while some jobs were given to the executor. This can be caused by a too short worker timeout or by a memory leak.\n",
      "  warnings.warn(\n",
      " [py.warnings]\n"
     ]
    },
    {
     "name": "stdout",
     "output_type": "stream",
     "text": [
      "    Elapsed time:   1778 s\n",
      ">>> Experiment:     vp4_100Hz\n",
      "    Output file:    results\\cellTypes\\vp4_100Hz.parquet\n",
      "    Excited neurons: 29\n",
      "    Elapsed time:   1778 s\n",
      ">>> Experiment:     vp4_125Hz\n",
      "    Output file:    results\\cellTypes\\vp4_125Hz.parquet\n",
      "    Excited neurons: 29\n"
     ]
    },
    {
     "name": "stderr",
     "output_type": "stream",
     "text": [
      "WARNING    c:\\Users\\snkyl\\miniconda3\\Lib\\site-packages\\joblib\\externals\\loky\\process_executor.py:752: UserWarning: A worker stopped while some jobs were given to the executor. This can be caused by a too short worker timeout or by a memory leak.\n",
      "  warnings.warn(\n",
      " [py.warnings]\n"
     ]
    },
    {
     "name": "stdout",
     "output_type": "stream",
     "text": [
      "    Elapsed time:   1787 s\n",
      ">>> Experiment:     vp4_150Hz\n",
      "    Output file:    results\\cellTypes\\vp4_150Hz.parquet\n",
      "    Excited neurons: 29\n"
     ]
    },
    {
     "name": "stderr",
     "output_type": "stream",
     "text": [
      "WARNING    c:\\Users\\snkyl\\miniconda3\\Lib\\site-packages\\joblib\\externals\\loky\\process_executor.py:752: UserWarning: A worker stopped while some jobs were given to the executor. This can be caused by a too short worker timeout or by a memory leak.\n",
      "  warnings.warn(\n",
      " [py.warnings]\n"
     ]
    },
    {
     "name": "stdout",
     "output_type": "stream",
     "text": [
      "    Elapsed time:   1752 s\n",
      ">>> Experiment:     vp4_175Hz\n",
      "    Output file:    results\\cellTypes\\vp4_175Hz.parquet\n",
      "    Excited neurons: 29\n",
      "    Elapsed time:   1778 s\n",
      ">>> Experiment:     vp4_200Hz\n",
      "    Output file:    results\\cellTypes\\vp4_200Hz.parquet\n",
      "    Excited neurons: 29\n",
      "    Elapsed time:   1777 s\n",
      ">>> Experiment:     vp5_25Hz\n",
      "    Output file:    results\\cellTypes\\vp5_25Hz.parquet\n",
      "    Excited neurons: 16\n"
     ]
    },
    {
     "name": "stderr",
     "output_type": "stream",
     "text": [
      "WARNING    c:\\Users\\snkyl\\miniconda3\\Lib\\site-packages\\joblib\\externals\\loky\\process_executor.py:752: UserWarning: A worker stopped while some jobs were given to the executor. This can be caused by a too short worker timeout or by a memory leak.\n",
      "  warnings.warn(\n",
      " [py.warnings]\n"
     ]
    },
    {
     "name": "stdout",
     "output_type": "stream",
     "text": [
      "    Elapsed time:   1741 s\n",
      ">>> Experiment:     vp5_50Hz\n",
      "    Output file:    results\\cellTypes\\vp5_50Hz.parquet\n",
      "    Excited neurons: 16\n",
      "    Elapsed time:   1747 s\n",
      ">>> Experiment:     vp5_75Hz\n",
      "    Output file:    results\\cellTypes\\vp5_75Hz.parquet\n",
      "    Excited neurons: 16\n",
      "    Elapsed time:   1752 s\n",
      ">>> Experiment:     vp5_100Hz\n",
      "    Output file:    results\\cellTypes\\vp5_100Hz.parquet\n",
      "    Excited neurons: 16\n"
     ]
    },
    {
     "name": "stderr",
     "output_type": "stream",
     "text": [
      "WARNING    c:\\Users\\snkyl\\miniconda3\\Lib\\site-packages\\joblib\\externals\\loky\\process_executor.py:752: UserWarning: A worker stopped while some jobs were given to the executor. This can be caused by a too short worker timeout or by a memory leak.\n",
      "  warnings.warn(\n",
      " [py.warnings]\n"
     ]
    },
    {
     "name": "stdout",
     "output_type": "stream",
     "text": [
      "    Elapsed time:   1759 s\n",
      ">>> Experiment:     vp5_125Hz\n",
      "    Output file:    results\\cellTypes\\vp5_125Hz.parquet\n",
      "    Excited neurons: 16\n"
     ]
    },
    {
     "name": "stderr",
     "output_type": "stream",
     "text": [
      "WARNING    c:\\Users\\snkyl\\miniconda3\\Lib\\site-packages\\joblib\\externals\\loky\\process_executor.py:752: UserWarning: A worker stopped while some jobs were given to the executor. This can be caused by a too short worker timeout or by a memory leak.\n",
      "  warnings.warn(\n",
      " [py.warnings]\n"
     ]
    },
    {
     "name": "stdout",
     "output_type": "stream",
     "text": [
      "    Elapsed time:   1769 s\n",
      ">>> Experiment:     vp5_150Hz\n",
      "    Output file:    results\\cellTypes\\vp5_150Hz.parquet\n",
      "    Excited neurons: 16\n",
      "    Elapsed time:   1752 s\n",
      ">>> Experiment:     vp5_175Hz\n",
      "    Output file:    results\\cellTypes\\vp5_175Hz.parquet\n",
      "    Excited neurons: 16\n"
     ]
    },
    {
     "name": "stderr",
     "output_type": "stream",
     "text": [
      "WARNING    c:\\Users\\snkyl\\miniconda3\\Lib\\site-packages\\joblib\\externals\\loky\\process_executor.py:752: UserWarning: A worker stopped while some jobs were given to the executor. This can be caused by a too short worker timeout or by a memory leak.\n",
      "  warnings.warn(\n",
      " [py.warnings]\n"
     ]
    },
    {
     "name": "stdout",
     "output_type": "stream",
     "text": [
      "    Elapsed time:   1766 s\n",
      ">>> Experiment:     vp5_200Hz\n",
      "    Output file:    results\\cellTypes\\vp5_200Hz.parquet\n",
      "    Excited neurons: 16\n",
      "    Elapsed time:   1772 s\n",
      ">>> Experiment:     vp1d_25Hz\n",
      "    Output file:    results\\cellTypes\\vp1d_25Hz.parquet\n",
      "    Excited neurons: 16\n"
     ]
    },
    {
     "name": "stderr",
     "output_type": "stream",
     "text": [
      "WARNING    c:\\Users\\snkyl\\miniconda3\\Lib\\site-packages\\joblib\\externals\\loky\\process_executor.py:752: UserWarning: A worker stopped while some jobs were given to the executor. This can be caused by a too short worker timeout or by a memory leak.\n",
      "  warnings.warn(\n",
      " [py.warnings]\n"
     ]
    },
    {
     "name": "stdout",
     "output_type": "stream",
     "text": [
      "    Elapsed time:   1753 s\n",
      ">>> Experiment:     vp1d_50Hz\n",
      "    Output file:    results\\cellTypes\\vp1d_50Hz.parquet\n",
      "    Excited neurons: 16\n"
     ]
    },
    {
     "name": "stderr",
     "output_type": "stream",
     "text": [
      "WARNING    c:\\Users\\snkyl\\miniconda3\\Lib\\site-packages\\joblib\\externals\\loky\\process_executor.py:752: UserWarning: A worker stopped while some jobs were given to the executor. This can be caused by a too short worker timeout or by a memory leak.\n",
      "  warnings.warn(\n",
      " [py.warnings]\n"
     ]
    },
    {
     "name": "stdout",
     "output_type": "stream",
     "text": [
      "    Elapsed time:   1768 s\n",
      ">>> Experiment:     vp1d_75Hz\n",
      "    Output file:    results\\cellTypes\\vp1d_75Hz.parquet\n",
      "    Excited neurons: 16\n"
     ]
    },
    {
     "name": "stderr",
     "output_type": "stream",
     "text": [
      "WARNING    c:\\Users\\snkyl\\miniconda3\\Lib\\site-packages\\joblib\\externals\\loky\\process_executor.py:752: UserWarning: A worker stopped while some jobs were given to the executor. This can be caused by a too short worker timeout or by a memory leak.\n",
      "  warnings.warn(\n",
      " [py.warnings]\n"
     ]
    },
    {
     "name": "stdout",
     "output_type": "stream",
     "text": [
      "    Elapsed time:   1761 s\n",
      ">>> Experiment:     vp1d_100Hz\n",
      "    Output file:    results\\cellTypes\\vp1d_100Hz.parquet\n",
      "    Excited neurons: 16\n"
     ]
    },
    {
     "name": "stderr",
     "output_type": "stream",
     "text": [
      "WARNING    c:\\Users\\snkyl\\miniconda3\\Lib\\site-packages\\joblib\\externals\\loky\\process_executor.py:752: UserWarning: A worker stopped while some jobs were given to the executor. This can be caused by a too short worker timeout or by a memory leak.\n",
      "  warnings.warn(\n",
      " [py.warnings]\n"
     ]
    },
    {
     "name": "stdout",
     "output_type": "stream",
     "text": [
      "    Elapsed time:   1771 s\n",
      ">>> Experiment:     vp1d_125Hz\n",
      "    Output file:    results\\cellTypes\\vp1d_125Hz.parquet\n",
      "    Excited neurons: 16\n"
     ]
    },
    {
     "name": "stderr",
     "output_type": "stream",
     "text": [
      "WARNING    c:\\Users\\snkyl\\miniconda3\\Lib\\site-packages\\joblib\\externals\\loky\\process_executor.py:752: UserWarning: A worker stopped while some jobs were given to the executor. This can be caused by a too short worker timeout or by a memory leak.\n",
      "  warnings.warn(\n",
      " [py.warnings]\n"
     ]
    },
    {
     "name": "stdout",
     "output_type": "stream",
     "text": [
      "    Elapsed time:   1764 s\n",
      ">>> Experiment:     vp1d_150Hz\n",
      "    Output file:    results\\cellTypes\\vp1d_150Hz.parquet\n",
      "    Excited neurons: 16\n"
     ]
    },
    {
     "name": "stderr",
     "output_type": "stream",
     "text": [
      "WARNING    c:\\Users\\snkyl\\miniconda3\\Lib\\site-packages\\joblib\\externals\\loky\\process_executor.py:752: UserWarning: A worker stopped while some jobs were given to the executor. This can be caused by a too short worker timeout or by a memory leak.\n",
      "  warnings.warn(\n",
      " [py.warnings]\n"
     ]
    },
    {
     "name": "stdout",
     "output_type": "stream",
     "text": [
      "    Elapsed time:   1760 s\n",
      ">>> Experiment:     vp1d_175Hz\n",
      "    Output file:    results\\cellTypes\\vp1d_175Hz.parquet\n",
      "    Excited neurons: 16\n"
     ]
    },
    {
     "name": "stderr",
     "output_type": "stream",
     "text": [
      "WARNING    c:\\Users\\snkyl\\miniconda3\\Lib\\site-packages\\joblib\\externals\\loky\\process_executor.py:752: UserWarning: A worker stopped while some jobs were given to the executor. This can be caused by a too short worker timeout or by a memory leak.\n",
      "  warnings.warn(\n",
      " [py.warnings]\n"
     ]
    },
    {
     "name": "stdout",
     "output_type": "stream",
     "text": [
      "    Elapsed time:   1755 s\n",
      ">>> Experiment:     vp1d_200Hz\n",
      "    Output file:    results\\cellTypes\\vp1d_200Hz.parquet\n",
      "    Excited neurons: 16\n",
      "    Elapsed time:   1765 s\n",
      ">>> Experiment:     vp1l_25Hz\n",
      "    Output file:    results\\cellTypes\\vp1l_25Hz.parquet\n",
      "    Excited neurons: 13\n"
     ]
    },
    {
     "name": "stderr",
     "output_type": "stream",
     "text": [
      "WARNING    c:\\Users\\snkyl\\miniconda3\\Lib\\site-packages\\joblib\\externals\\loky\\process_executor.py:752: UserWarning: A worker stopped while some jobs were given to the executor. This can be caused by a too short worker timeout or by a memory leak.\n",
      "  warnings.warn(\n",
      " [py.warnings]\n"
     ]
    },
    {
     "name": "stdout",
     "output_type": "stream",
     "text": [
      "    Elapsed time:   1736 s\n",
      ">>> Experiment:     vp1l_50Hz\n",
      "    Output file:    results\\cellTypes\\vp1l_50Hz.parquet\n",
      "    Excited neurons: 13\n"
     ]
    },
    {
     "name": "stderr",
     "output_type": "stream",
     "text": [
      "WARNING    c:\\Users\\snkyl\\miniconda3\\Lib\\site-packages\\joblib\\externals\\loky\\process_executor.py:752: UserWarning: A worker stopped while some jobs were given to the executor. This can be caused by a too short worker timeout or by a memory leak.\n",
      "  warnings.warn(\n",
      " [py.warnings]\n"
     ]
    },
    {
     "name": "stdout",
     "output_type": "stream",
     "text": [
      "    Elapsed time:   1771 s\n",
      ">>> Experiment:     vp1l_75Hz\n",
      "    Output file:    results\\cellTypes\\vp1l_75Hz.parquet\n",
      "    Excited neurons: 13\n"
     ]
    },
    {
     "name": "stderr",
     "output_type": "stream",
     "text": [
      "WARNING    c:\\Users\\snkyl\\miniconda3\\Lib\\site-packages\\joblib\\externals\\loky\\process_executor.py:752: UserWarning: A worker stopped while some jobs were given to the executor. This can be caused by a too short worker timeout or by a memory leak.\n",
      "  warnings.warn(\n",
      " [py.warnings]\n"
     ]
    },
    {
     "name": "stdout",
     "output_type": "stream",
     "text": [
      "    Elapsed time:   1755 s\n",
      ">>> Experiment:     vp1l_100Hz\n",
      "    Output file:    results\\cellTypes\\vp1l_100Hz.parquet\n",
      "    Excited neurons: 13\n"
     ]
    },
    {
     "name": "stderr",
     "output_type": "stream",
     "text": [
      "WARNING    c:\\Users\\snkyl\\miniconda3\\Lib\\site-packages\\joblib\\externals\\loky\\process_executor.py:752: UserWarning: A worker stopped while some jobs were given to the executor. This can be caused by a too short worker timeout or by a memory leak.\n",
      "  warnings.warn(\n",
      " [py.warnings]\n"
     ]
    },
    {
     "name": "stdout",
     "output_type": "stream",
     "text": [
      "    Elapsed time:   1763 s\n",
      ">>> Experiment:     vp1l_125Hz\n",
      "    Output file:    results\\cellTypes\\vp1l_125Hz.parquet\n",
      "    Excited neurons: 13\n"
     ]
    },
    {
     "name": "stderr",
     "output_type": "stream",
     "text": [
      "WARNING    c:\\Users\\snkyl\\miniconda3\\Lib\\site-packages\\joblib\\externals\\loky\\process_executor.py:752: UserWarning: A worker stopped while some jobs were given to the executor. This can be caused by a too short worker timeout or by a memory leak.\n",
      "  warnings.warn(\n",
      " [py.warnings]\n"
     ]
    },
    {
     "name": "stdout",
     "output_type": "stream",
     "text": [
      "    Elapsed time:   1780 s\n",
      ">>> Experiment:     vp1l_150Hz\n",
      "    Output file:    results\\cellTypes\\vp1l_150Hz.parquet\n",
      "    Excited neurons: 13\n"
     ]
    },
    {
     "name": "stderr",
     "output_type": "stream",
     "text": [
      "WARNING    c:\\Users\\snkyl\\miniconda3\\Lib\\site-packages\\joblib\\externals\\loky\\process_executor.py:752: UserWarning: A worker stopped while some jobs were given to the executor. This can be caused by a too short worker timeout or by a memory leak.\n",
      "  warnings.warn(\n",
      " [py.warnings]\n"
     ]
    },
    {
     "name": "stdout",
     "output_type": "stream",
     "text": [
      "    Elapsed time:   1788 s\n",
      ">>> Experiment:     vp1l_175Hz\n",
      "    Output file:    results\\cellTypes\\vp1l_175Hz.parquet\n",
      "    Excited neurons: 13\n",
      "    Elapsed time:   1790 s\n",
      ">>> Experiment:     vp1l_200Hz\n",
      "    Output file:    results\\cellTypes\\vp1l_200Hz.parquet\n",
      "    Excited neurons: 13\n",
      "    Elapsed time:   1798 s\n"
     ]
    }
   ],
   "source": [
    "# Run simulation for diff cell types\n",
    "cell_types = [vp2, vp3a, vp1m,\n",
    "              vp4, vp5, vp1d, vp1l]\n",
    "\n",
    "labels = ['vp2','vp3a','vp1m',\n",
    "              'vp4','vp5','vp1d','vp1l']\n",
    "\n",
    "f2name = [flyid2name_vp2, flyid2name_vp3a, flyid2name_vp1m, \n",
    "          flyid2name_vp4, flyid2name_vp5, flyid2name_vp1d, flyid2name_vp1l]\n",
    "\n",
    "# Run simulation at diff stim intensities\n",
    "def stimulate_cellType(celltype, label, flyidname):\n",
    "    for stim_rate in [5,10,15,20,25,50,75,100,125,150,175,200]: \n",
    "        \n",
    "        prefix = label + '_' + str(stim_rate) + 'Hz'\n",
    "        params['r_poi'] = stim_rate * Hz\n",
    "        run_exp(exp_name=prefix, neu_exc=celltype, params=params, **config)\n",
    "        \n",
    "        # extract results\n",
    "        datafilename = './results/cellTypes/' + prefix + '.parquet'\n",
    "        df_spike = utl.load_exps([datafilename])\n",
    "        df_rate, df_rate_std = utl.get_rate(df_spike, t_run=params['t_run'], n_run=params['n_run'], flyid2name=flyidname)\n",
    "        \n",
    "        # save dataframes to csv\n",
    "        savepath = './results/cellTypes/CSVs/'\n",
    "        df_rate.fillna(0).to_csv(savepath + prefix + '_rates.csv')\n",
    "        df_rate_std.fillna(0).to_csv(savepath + prefix + '_std.csv')\n",
    "\n",
    "for i in range(len(cell_types)):\n",
    "    stimulate_cellType(cell_types[i], labels[i], f2name[i])"
   ]
  }
 ],
 "metadata": {
  "kernelspec": {
   "display_name": "Python 3",
   "language": "python",
   "name": "python3"
  },
  "language_info": {
   "codemirror_mode": {
    "name": "ipython",
    "version": 3
   },
   "file_extension": ".py",
   "mimetype": "text/x-python",
   "name": "python",
   "nbconvert_exporter": "python",
   "pygments_lexer": "ipython3",
   "version": "3.10.4"
  }
 },
 "nbformat": 4,
 "nbformat_minor": 2
}
