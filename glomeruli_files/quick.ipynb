{
 "cells": [
  {
   "cell_type": "code",
   "execution_count": 2,
   "metadata": {},
   "outputs": [],
   "source": [
    "import pandas as pd\n",
    "\n",
    "oneN_ids = pd.read_csv('../1N_ids.csv')\n",
    "# Read 2N IDs from CSV\n",
    "twoN_ids = pd.read_csv('../2N_ids.csv')\n",
    "\n",
    "# Read previously filtered synapses from CSV\n",
    "syn1N_df = pd.read_csv('./input/filtered_1N_synapses.csv')\n",
    "syn2N_df = pd.read_csv('./input/filtered_2N_synapses.csv')\n",
    "synOlf_df = pd.read_csv('./input/filtered_olfactory_synapses.csv')\n",
    "\n",
    "# Read ALPN IDs from CSV\n",
    "alpn_ids = pd.read_csv('./input/alpn_ids.csv')\n",
    "\n",
    "# Subtract ALPN IDs from 2N IDs (ie non ALPN 2N ids)\n",
    "other_ids = twoN_ids[~twoN_ids['root_id'].isin(alpn_ids['root_id'])]\n",
    "\n",
    "# Olfactory Neurons at the 3N level\n",
    "olf3N_ids = pd.read_csv('./input/3N_olfactory.csv')\n",
    "\n",
    "# Filter synapses to only include those where post_pt_root_id matches alpn_ids\n",
    "alpn_syn_df = syn2N_df[syn2N_df['pre_pt_root_id'].isin(alpn_ids['root_id'])]\n",
    "\n",
    "# Non ALPN 2N synapses\n",
    "other_syn_df = syn2N_df[syn2N_df['pre_pt_root_id'].isin(other_ids['root_id'])]\n",
    "\n",
    "olf3N_syn_df = synOlf_df[synOlf_df['pre_pt_root_id'].isin(olf3N_ids['root_id'])]\n",
    "olf3N_syn_df_post = synOlf_df[synOlf_df['post_pt_root_id'].isin(olf3N_ids['root_id'])]\n",
    "\n",
    "oneN_syn_df = syn1N_df[syn1N_df['pre_pt_root_id'].isin(oneN_ids['root_id'])]"
   ]
  },
  {
   "cell_type": "code",
   "execution_count": 3,
   "metadata": {},
   "outputs": [
    {
     "name": "stdout",
     "output_type": "stream",
     "text": [
      "106185\n",
      "368278\n",
      "123306\n",
      "99763\n",
      "1847501\n",
      "601619\n",
      "828876\n"
     ]
    }
   ],
   "source": [
    "print(len(olf3N_syn_df_post))\n",
    "print(len(olf3N_syn_df))\n",
    "print(len(syn1N_df))\n",
    "print(len(oneN_syn_df))\n",
    "print(len(syn2N_df))\n",
    "print(len(alpn_syn_df))\n",
    "print(len(other_syn_df))\n"
   ]
  },
  {
   "cell_type": "code",
   "execution_count": 5,
   "metadata": {},
   "outputs": [],
   "source": [
    "# Randomly sample 200 neurons from 3N IDs\n",
    "sampled_neurons = pd.read_csv('../3N_ids.csv').sample(n=200, random_state=42)\n",
    "\n",
    "# Save sampled neurons to CSV\n",
    "sampled_neurons.to_csv('./3N_randomSample.csv', index=False)\n"
   ]
  }
 ],
 "metadata": {
  "kernelspec": {
   "display_name": "base",
   "language": "python",
   "name": "python3"
  },
  "language_info": {
   "codemirror_mode": {
    "name": "ipython",
    "version": 3
   },
   "file_extension": ".py",
   "mimetype": "text/x-python",
   "name": "python",
   "nbconvert_exporter": "python",
   "pygments_lexer": "ipython3",
   "version": "3.9.18"
  }
 },
 "nbformat": 4,
 "nbformat_minor": 2
}
