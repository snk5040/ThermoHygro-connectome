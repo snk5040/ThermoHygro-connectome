{
 "cells": [
  {
   "cell_type": "code",
   "execution_count": 1,
   "metadata": {},
   "outputs": [],
   "source": [
    "import pandas as pd\n",
    "\n",
    "oneN_ids = pd.read_csv('../1N_ids.csv')\n",
    "# Read 2N IDs from CSV\n",
    "twoN_ids = pd.read_csv('../2N_ids.csv')\n",
    "\n",
    "# Read previously filtered synapses from CSV\n",
    "syn1N_df = pd.read_csv('./input/filtered_1N_synapses.csv')\n",
    "syn2N_df = pd.read_csv('./input/filtered_2N_synapses.csv')\n",
    "synOlf_df = pd.read_csv('./input/filtered_olfactory_synapses.csv')\n",
    "\n",
    "# Read ALPN IDs from CSV\n",
    "alpn_ids = pd.read_csv('./input/alpn_ids.csv')\n",
    "\n",
    "# Subtract ALPN IDs from 2N IDs (ie non ALPN 2N ids)\n",
    "other_ids = twoN_ids[~twoN_ids['root_id'].isin(alpn_ids['root_id'])]\n",
    "\n",
    "# Olfactory Neurons at the 3N level\n",
    "olf3N_ids = pd.read_csv('./input/3N_olfactory.csv')\n",
    "\n",
    "# Filter synapses to only include those where post_pt_root_id matches alpn_ids\n",
    "alpn_syn_df = syn2N_df[syn2N_df['pre_pt_root_id'].isin(alpn_ids['root_id'])]\n",
    "\n",
    "# Non ALPN 2N synapses\n",
    "other_syn_df = syn2N_df[syn2N_df['pre_pt_root_id'].isin(other_ids['root_id'])]\n",
    "\n",
    "olf3N_syn_df = synOlf_df[synOlf_df['pre_pt_root_id'].isin(olf3N_ids['root_id'])]\n",
    "olf3N_syn_df_post = synOlf_df[synOlf_df['post_pt_root_id'].isin(olf3N_ids['root_id'])]\n",
    "\n",
    "oneN_syn_df = syn1N_df[syn1N_df['pre_pt_root_id'].isin(oneN_ids['root_id'])]"
   ]
  },
  {
   "cell_type": "code",
   "execution_count": 8,
   "metadata": {},
   "outputs": [
    {
     "name": "stdout",
     "output_type": "stream",
     "text": [
      "                root_id       flow super_class class sub_class cell_type  \\\n",
      "0    720575940623788040  intrinsic     central  ALLN       NaN       NaN   \n",
      "1    720575940619417620  intrinsic     central  ALLN       NaN   v2LN41b   \n",
      "2    720575940630571052  intrinsic     central  ALLN       NaN   lLN1_bc   \n",
      "3    720575940645199924  intrinsic     central  ALON       NaN     ALON1   \n",
      "4    720575940617586757  intrinsic     central  ALLN       NaN   lLN2X12   \n",
      "..                  ...        ...         ...   ...       ...       ...   \n",
      "212  720575940623136717  intrinsic     central  ALLN       NaN   lLN2X12   \n",
      "213  720575940633294796  intrinsic     central  ALLN       NaN       NaN   \n",
      "214  720575940631558113  intrinsic     central  ALLN       NaN    CB1545   \n",
      "215  720575940627369960  intrinsic     central  ALLN       NaN       NaN   \n",
      "216  720575940622491632  intrinsic     central  ALLN       NaN       NaN   \n",
      "\n",
      "    hemibrain_type       hemilineage   side nerve  \n",
      "0          lLN2F_a       ALl1_dorsal   left   NaN  \n",
      "1           v2LN41              ALv2   left   NaN  \n",
      "2    lLN1_b,lLN1_c       ALl1_dorsal   left   NaN  \n",
      "3              NaN  putative_primary   left   NaN  \n",
      "4              NaN       ALl1_dorsal   left   NaN  \n",
      "..             ...               ...    ...   ...  \n",
      "212            NaN       ALl1_dorsal   left   NaN  \n",
      "213        lLN2T_b       ALl1_dorsal  right   NaN  \n",
      "214            NaN              ALv2  right   NaN  \n",
      "215         v2LN49              ALv2   left   NaN  \n",
      "216          vLN26              ALv2   left   NaN  \n",
      "\n",
      "[217 rows x 10 columns]\n",
      "48\n"
     ]
    }
   ],
   "source": [
    "classification = pd.read_csv('../classification_783.csv.gz')\n",
    "# Merge other_ids with classification data\n",
    "other_ids_classified = other_ids.merge(classification, left_on='root_id', right_on='root_id', how='left')\n",
    "print(other_ids_classified)\n",
    "# Filter other_ids_classified to only include ALLN class\n",
    "alln_ids = other_ids_classified[other_ids_classified['class'] == 'ALLN']\n",
    "\n",
    "# Save ALLN root IDs to CSV\n",
    "alln_ids[['root_id']].to_csv('./input/alln_ids.csv', index=False)\n",
    "\n",
    "# Filter other_ids_classified to only include non-ALLN classes\n",
    "non_alln_ids = other_ids_classified[other_ids_classified['class'] != 'ALLN']\n",
    "print(len(non_alln_ids))\n",
    "\n",
    "# Save non-ALLN root IDs to CSV \n",
    "non_alln_ids[['root_id']].to_csv('./input/other_2N_ids.csv', index=False)\n",
    "\n",
    "\n",
    "\n"
   ]
  },
  {
   "cell_type": "code",
   "execution_count": 3,
   "metadata": {},
   "outputs": [
    {
     "name": "stdout",
     "output_type": "stream",
     "text": [
      "106185\n",
      "368278\n",
      "123306\n",
      "99763\n",
      "1847501\n",
      "601619\n",
      "828876\n"
     ]
    }
   ],
   "source": [
    "print(len(olf3N_syn_df_post))\n",
    "print(len(olf3N_syn_df))\n",
    "print(len(syn1N_df))\n",
    "print(len(oneN_syn_df))\n",
    "print(len(syn2N_df))\n",
    "print(len(alpn_syn_df))\n",
    "print(len(other_syn_df))\n"
   ]
  },
  {
   "cell_type": "code",
   "execution_count": 5,
   "metadata": {},
   "outputs": [],
   "source": [
    "# Randomly sample 200 neurons from 3N IDs\n",
    "sampled_neurons = pd.read_csv('../3N_ids.csv').sample(n=200, random_state=42)\n",
    "\n",
    "# Save sampled neurons to CSV\n",
    "sampled_neurons.to_csv('./3N_randomSample200.csv', index=False)\n"
   ]
  }
 ],
 "metadata": {
  "kernelspec": {
   "display_name": "base",
   "language": "python",
   "name": "python3"
  },
  "language_info": {
   "codemirror_mode": {
    "name": "ipython",
    "version": 3
   },
   "file_extension": ".py",
   "mimetype": "text/x-python",
   "name": "python",
   "nbconvert_exporter": "python",
   "pygments_lexer": "ipython3",
   "version": "3.9.18"
  }
 },
 "nbformat": 4,
 "nbformat_minor": 2
}
