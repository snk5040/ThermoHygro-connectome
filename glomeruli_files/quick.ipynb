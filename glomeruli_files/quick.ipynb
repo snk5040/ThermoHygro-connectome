{
 "cells": [
  {
   "cell_type": "code",
   "execution_count": 1,
   "metadata": {},
   "outputs": [],
   "source": [
    "import pandas as pd\n",
    "\n",
    "# Read 2N IDs from CSV\n",
    "twoN_ids = pd.read_csv('../2N_ids.csv')\n",
    "\n",
    "# Read previouslyfiltered synapses from CSV\n",
    "syn_df = pd.read_csv('./input/filtered_1N_synapses.csv')\n",
    "\n",
    "# Read ALPN IDs from CSV\n",
    "alpn_ids = pd.read_csv('alpn_ids.csv')\n",
    "\n",
    "# Subtract ALPN IDs from 2N IDs\n",
    "other_ids = twoN_ids[~twoN_ids['root_id'].isin(alpn_ids['ids'])] # Non ALPN 2N ids\n",
    "other_ids.to_csv('other_ids.csv', index=False)"
   ]
  }
 ],
 "metadata": {
  "kernelspec": {
   "display_name": "base",
   "language": "python",
   "name": "python3"
  },
  "language_info": {
   "codemirror_mode": {
    "name": "ipython",
    "version": 3
   },
   "file_extension": ".py",
   "mimetype": "text/x-python",
   "name": "python",
   "nbconvert_exporter": "python",
   "pygments_lexer": "ipython3",
   "version": "3.9.18"
  }
 },
 "nbformat": 4,
 "nbformat_minor": 2
}
